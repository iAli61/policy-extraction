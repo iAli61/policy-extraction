{
 "cells": [
  {
   "cell_type": "code",
   "execution_count": 0,
   "metadata": {
    "application/vnd.databricks.v1+cell": {
     "cellMetadata": {},
     "inputWidgets": {},
     "nuid": "574630ab-73de-4ca6-b540-ed20cede3806",
     "showTitle": false,
     "tableResultSettingsMap": {},
     "title": ""
    }
   },
   "outputs": [],
   "source": [
    "import os\n",
    "import asyncio\n",
    "from flamingo_client import FlamingoLLMClient, AsyncFlamingoLLMClient\n",
    "from dotenv import load_dotenv\n",
    "load_dotenv()\n",
    "\n",
    "WORKING_DIR = \"./test\"\n",
    "\n",
    "if not os.path.exists(WORKING_DIR):\n",
    "    os.mkdir(WORKING_DIR)"
   ]
  },
  {
   "cell_type": "code",
   "execution_count": 0,
   "metadata": {
    "application/vnd.databricks.v1+cell": {
     "cellMetadata": {},
     "inputWidgets": {},
     "nuid": "25fedf07-2325-48d6-a970-b30ce4c3f663",
     "showTitle": false,
     "tableResultSettingsMap": {},
     "title": ""
    }
   },
   "outputs": [],
   "source": [
    "async def llm_model_func(\n",
    "    prompt, system_prompt=None, history_messages=[], **kwargs\n",
    ") -> str:\n",
    "    client = AsyncFlamingoLLMClient(\n",
    "        subscription_id=os.getenv(\"SUBSCRIPTION_ID\"),\n",
    "        base_url=os.getenv(\"BASE_URL\"),\n",
    "        client_id=os.getenv(\"CLIENT_ID\"),\n",
    "        client_secret=os.getenv(\"CLIENT_SECRET\"),\n",
    "        subscription_key=os.getenv(\"SUBSCRIPTION_KEY\"),\n",
    "        tenant=os.getenv(\"TENANT_ID\"),\n",
    "    )\n",
    "    return await client.chat.completions.create(\n",
    "        model=\"llama3\",\n",
    "        messages=[{\"role\": \"user\", \"content\": prompt}],\n",
    "        **kwargs,\n",
    "    )\n",
    "\n",
    "async def test_funcs():\n",
    "    result = await llm_model_func(\"How are you?\")\n",
    "    print(\"llm_model_func: \", result)\n",
    "\n",
    "\n",
    "await test_funcs()"
   ]
  },
  {
   "cell_type": "code",
   "execution_count": 0,
   "metadata": {
    "application/vnd.databricks.v1+cell": {
     "cellMetadata": {},
     "inputWidgets": {},
     "nuid": "1b436fe9-5ad3-4767-8734-ed98ee99a22b",
     "showTitle": false,
     "tableResultSettingsMap": {},
     "title": ""
    }
   },
   "outputs": [],
   "source": []
  }
 ],
 "metadata": {
  "application/vnd.databricks.v1+notebook": {
   "computePreferences": null,
   "dashboards": [],
   "environmentMetadata": null,
   "language": "python",
   "notebookMetadata": {},
   "notebookName": "lightrag_flamingo_test",
   "widgets": {}
  },
  "kernelspec": {
   "display_name": "rag",
   "language": "python",
   "name": "python3"
  },
  "language_info": {
   "name": "python"
  }
 },
 "nbformat": 4,
 "nbformat_minor": 0
}
