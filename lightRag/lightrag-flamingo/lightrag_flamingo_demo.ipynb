{
 "cells": [
  {
   "cell_type": "code",
   "execution_count": 0,
   "metadata": {
    "application/vnd.databricks.v1+cell": {
     "cellMetadata": {
      "byteLimit": 2048000,
      "rowLimit": 10000
     },
     "inputWidgets": {},
     "nuid": "9b3cbe13-287b-4887-b28b-b0766c2a42c4",
     "showTitle": false,
     "tableResultSettingsMap": {},
     "title": ""
    }
   },
   "outputs": [],
   "source": [
    "# !pip install \"git+https://github.com/iAli61/lightrag.git@b80a8bb93618801d66a061e2e143734a82a48a90#egg=lightrag-hku[api]\"\n",
    "# !pip install -r ../../requirement.txt\n"
   ]
  },
  {
   "cell_type": "code",
   "execution_count": 0,
   "metadata": {
    "application/vnd.databricks.v1+cell": {
     "cellMetadata": {
      "byteLimit": 2048000,
      "rowLimit": 10000
     },
     "inputWidgets": {},
     "nuid": "5320d518-d59a-4384-b2aa-c00726829c06",
     "showTitle": false,
     "tableResultSettingsMap": {},
     "title": ""
    }
   },
   "outputs": [],
   "source": [
    "from dotenv import load_dotenv\n",
    "load_dotenv()"
   ]
  },
  {
   "cell_type": "code",
   "execution_count": 0,
   "metadata": {
    "application/vnd.databricks.v1+cell": {
     "cellMetadata": {
      "byteLimit": 2048000,
      "rowLimit": 10000
     },
     "inputWidgets": {},
     "nuid": "5aa09fcd-1932-49a7-8a43-351eb92d7378",
     "showTitle": false,
     "tableResultSettingsMap": {},
     "title": ""
    }
   },
   "outputs": [],
   "source": [
    "\n",
    "import os\n",
    "import asyncio\n",
    "from flamingo_client import AsyncFlamingoLLMClient\n",
    "from lightrag import LightRAG, QueryParam\n",
    "from lightrag.utils import EmbeddingFunc\n",
    "import numpy as np\n",
    "from lightrag.kg.shared_storage import initialize_pipeline_status\n",
    "from sentence_transformers import SentenceTransformer\n",
    "from lightrag.utils import logger, set_verbose_debug\n",
    "\n"
   ]
  },
  {
   "cell_type": "code",
   "execution_count": 0,
   "metadata": {
    "application/vnd.databricks.v1+cell": {
     "cellMetadata": {
      "byteLimit": 2048000,
      "rowLimit": 10000
     },
     "inputWidgets": {},
     "nuid": "78a5c6fa-b813-452f-8575-902c5a0ba6a3",
     "showTitle": false,
     "tableResultSettingsMap": {},
     "title": ""
    }
   },
   "outputs": [],
   "source": [
    "os.getenv(\"TENANT_ID\")"
   ]
  },
  {
   "cell_type": "code",
   "execution_count": 0,
   "metadata": {
    "application/vnd.databricks.v1+cell": {
     "cellMetadata": {
      "byteLimit": 2048000,
      "rowLimit": 10000
     },
     "inputWidgets": {},
     "nuid": "03a0d68e-29f5-4c83-bae7-a458d33c880d",
     "showTitle": false,
     "tableResultSettingsMap": {},
     "title": ""
    }
   },
   "outputs": [],
   "source": [
    "WORKING_DIR = \"./markdown_files\"\n",
    "\n",
    "if not os.path.exists(WORKING_DIR):\n",
    "    os.mkdir(WORKING_DIR)\n"
   ]
  },
  {
   "cell_type": "code",
   "execution_count": 0,
   "metadata": {
    "application/vnd.databricks.v1+cell": {
     "cellMetadata": {
      "byteLimit": 2048000,
      "rowLimit": 10000
     },
     "inputWidgets": {},
     "nuid": "b36f3a7f-ac0d-4555-8e78-4a2b7003d7d7",
     "showTitle": false,
     "tableResultSettingsMap": {},
     "title": ""
    }
   },
   "outputs": [],
   "source": [
    "async def flamingo_llm_model_func(\n",
    "    prompt, system_prompt=None, history_messages=[], **kwargs\n",
    ") -> str:\n",
    "    client = AsyncFlamingoLLMClient(\n",
    "        subscription_id=os.getenv(\"SUBSCRIPTION_ID\"),\n",
    "        base_url=os.getenv(\"BASE_URL\"),\n",
    "        client_id=os.getenv(\"CLIENT_ID\"),\n",
    "        client_secret=os.getenv(\"CLIENT_SECRET\"),\n",
    "        subscription_key=os.getenv(\"SUBSCRIPTION_KEY\"),\n",
    "        tenant=os.getenv(\"TENANT_ID\"),\n",
    "    )\n",
    "    response = await client.chat.completions.create(\n",
    "        model=\"llama3\",\n",
    "        messages=[{\"role\": \"user\", \"content\": prompt}],\n",
    "    )\n",
    "    \n",
    "    content = response.choices[0].message.content\n",
    "\n",
    "    if not content or content.strip() == \"\":\n",
    "        logger.error(\"Received empty content from flamingo API\")\n",
    "        raise InvalidResponseError(\"Received empty content from flamingo API\")\n",
    "\n",
    "    if r\"\\u\" in content:\n",
    "        content = safe_unicode_decode(content.encode(\"utf-8\"))\n",
    "    return content\n",
    "\n",
    "\n",
    "\n",
    "async def embedding_func(texts: list[str]) -> np.ndarray:\n",
    "    model = SentenceTransformer(\"all-MiniLM-L6-v2\")\n",
    "    embeddings = model.encode(texts, convert_to_numpy=True)\n",
    "    return embeddings\n",
    "\n",
    "\n",
    "async def get_embedding_dim():\n",
    "    test_text = [\"This is a test sentence.\"]\n",
    "    embedding = await embedding_func(test_text)\n",
    "    embedding_dim = embedding.shape[1]\n",
    "    return embedding_dim\n",
    "\n",
    "\n",
    "# function test\n",
    "async def test_funcs():\n",
    "    result = await flamingo_llm_model_func(\"How are you?\")\n",
    "    print(\"flamingo_llm_model_func: \", result)\n",
    "\n",
    "    result = await embedding_func([\"How are you?\"])\n",
    "    print(\"flamingo_embedding_func: \", result)\n",
    "\n",
    "\n",
    "async def initialize_flamingo_rag():\n",
    "    embedding_dimension = await get_embedding_dim()\n",
    "    print(f\"Detected embedding dimension: {embedding_dimension}\")\n",
    "\n",
    "    rag = LightRAG(\n",
    "        working_dir=WORKING_DIR,\n",
    "        llm_model_func=flamingo_llm_model_func,\n",
    "        embedding_func=EmbeddingFunc(\n",
    "            embedding_dim=embedding_dimension,\n",
    "            max_token_size=8192,\n",
    "            func=embedding_func,\n",
    "        ),\n",
    "    )\n",
    "\n",
    "    await rag.initialize_storages()\n",
    "    await initialize_pipeline_status()\n",
    "\n",
    "    return rag\n"
   ]
  },
  {
   "cell_type": "code",
   "execution_count": 0,
   "metadata": {
    "application/vnd.databricks.v1+cell": {
     "cellMetadata": {},
     "inputWidgets": {},
     "nuid": "ad7d422a-e98b-45ee-a80f-018a0ba1248d",
     "showTitle": false,
     "tableResultSettingsMap": {},
     "title": ""
    }
   },
   "outputs": [],
   "source": [
    "await test_funcs()"
   ]
  },
  {
   "cell_type": "code",
   "execution_count": 0,
   "metadata": {
    "application/vnd.databricks.v1+cell": {
     "cellMetadata": {},
     "inputWidgets": {},
     "nuid": "4acb0e8f-9917-45ca-8312-b01a177c3159",
     "showTitle": false,
     "tableResultSettingsMap": {},
     "title": ""
    }
   },
   "outputs": [],
   "source": [
    "# Setup logging\n",
    "logger.setLevel(\"DEBUG\")\n",
    "set_verbose_debug(True)\n",
    "\n",
    "# Initialize RAG instance\n",
    "rag = await initialize_flamingo_rag()\n",
    "\n",
    "with open(\"./markdown_files/20241119Placing Slip.md\", \"r\", encoding=\"utf-8\") as f:\n",
    "    await rag.ainsert(f.read())\n",
    "\n",
    "# Perform naive search\n",
    "print(\n",
    "    await rag.aquery(\n",
    "        \"What are the top themes in this story?\", param=QueryParam(mode=\"naive\")\n",
    "    )\n",
    ")\n",
    "\n",
    "# Perform local search\n",
    "print(\n",
    "    await rag.aquery(\n",
    "        \"What are the top themes in this story?\", param=QueryParam(mode=\"local\")\n",
    "    )\n",
    ")\n",
    "\n",
    "# Perform global search\n",
    "print(\n",
    "    await rag.aquery(\n",
    "        \"What are the top themes in this story?\",\n",
    "        param=QueryParam(mode=\"global\"),\n",
    "    )\n",
    ")\n",
    "\n",
    "# Perform hybrid search\n",
    "print(\n",
    "    await rag.aquery(\n",
    "        \"What are the top themes in this story?\",\n",
    "        param=QueryParam(mode=\"hybrid\"),\n",
    "    )\n",
    ")"
   ]
  },
  {
   "cell_type": "code",
   "execution_count": 0,
   "metadata": {
    "application/vnd.databricks.v1+cell": {
     "cellMetadata": {
      "byteLimit": 2048000,
      "rowLimit": 10000
     },
     "inputWidgets": {},
     "nuid": "44302e7d-862c-4963-b969-f1a3f18e80ee",
     "showTitle": false,
     "tableResultSettingsMap": {},
     "title": ""
    }
   },
   "outputs": [],
   "source": []
  }
 ],
 "metadata": {
  "application/vnd.databricks.v1+notebook": {
   "computePreferences": null,
   "dashboards": [],
   "environmentMetadata": null,
   "language": "python",
   "notebookMetadata": {
    "pythonIndentUnit": 4
   },
   "notebookName": "lightrag_flamingo_demo",
   "widgets": {}
  },
  "kernelspec": {
   "display_name": "rag",
   "language": "python",
   "name": "python3"
  },
  "language_info": {
   "name": "python"
  }
 },
 "nbformat": 4,
 "nbformat_minor": 0
}
