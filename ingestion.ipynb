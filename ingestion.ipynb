{
 "cells": [
  {
   "cell_type": "code",
   "execution_count": null,
   "metadata": {},
   "outputs": [
    {
     "name": "stdout",
     "output_type": "stream",
     "text": [
      "Warning: Message(type='warning', message=\"Did not understand this style mapping, so ignored it: p[style-name='Heading 1'] => # {}\")\n",
      "Warning: Message(type='warning', message=\"Did not understand this style mapping, so ignored it: p[style-name='Heading 2'] => ## {}\")\n",
      "Warning: Message(type='warning', message=\"Did not understand this style mapping, so ignored it: p[style-name='Heading 3'] => ### {}\")\n",
      "Warning: Message(type='warning', message=\"Did not understand this style mapping, so ignored it: p[style-name='Heading 4'] => #### {}\")\n",
      "Warning: Message(type='warning', message=\"Did not understand this style mapping, so ignored it: p[style-name='Heading 5'] => ##### {}\")\n",
      "Warning: Message(type='warning', message=\"Did not understand this style mapping, so ignored it: p[style-name='Heading 6'] => ###### {}\")\n",
      "Warning: Message(type='warning', message=\"Did not understand this style mapping, so ignored it: p[style-name='Title'] => # {}\")\n",
      "Warning: Message(type='warning', message=\"Did not understand this style mapping, so ignored it: p[style-name='Subtitle'] => ## {}\")\n",
      "Warning: Message(type='warning', message=\"Did not understand this style mapping, so ignored it: p[style-name='Quote'] => > {}\")\n",
      "Warning: Message(type='warning', message=\"Did not understand this style mapping, so ignored it: r[style-name='Strong'] => **{}**\")\n",
      "Warning: Message(type='warning', message=\"Did not understand this style mapping, so ignored it: r[style-name='Emphasis'] => *{}*\")\n",
      "Warning: Message(type='warning', message='Unrecognised paragraph style: List Paragraph (Style ID: ListParagraph)')\n",
      "Converted: test_files/test.docx → markdown_files/test.md\n",
      "Successfully converted: test_files/test.docx\n",
      "Converted 1 files. Output files are in the markdown_files directory.\n"
     ]
    }
   ],
   "source": [
    "import glob\n",
    "import sys\n",
    "import os\n",
    "from pathlib import Path\n",
    "\n",
    "# Get absolute path to the directory containing word_to_markdown.py\n",
    "project_dir = os.path.abspath('.')\n",
    "sys.path.insert(0, project_dir)  # Insert at beginning of path\n",
    "\n",
    "# Debug to verify paths\n",
    "print(f\"Current working directory: {os.getcwd()}\")\n",
    "print(f\"Added to path: {project_dir}\")\n",
    "print(f\"Python path: {sys.path}\")\n",
    "\n",
    "# Check if file exists\n",
    "module_path = os.path.join(project_dir, \"word_to_markdown.py\")\n",
    "print(f\"Module path exists: {os.path.exists(module_path)}\")\n",
    "\n",
    "# Import the converter from your script\n",
    "from word_to_markdown import WordToMarkdownConverter\n",
    "\n",
    "volume_path = \"test_files\"\n",
    "\n",
    "# Get all PDFs\n",
    "all_docx = glob.glob(f\"{volume_path}/*.docx\")\n",
    "\n",
    "# Initialize the converter\n",
    "converter = WordToMarkdownConverter(\n",
    "    preserve_tables=True,\n",
    "    preserve_images=True,\n",
    "    preserve_lists=True\n",
    ")\n",
    "\n",
    "# Create an output directory for the converted markdown files\n",
    "output_dir = \"markdown_files\"\n",
    "os.makedirs(output_dir, exist_ok=True)\n",
    "\n",
    "# Convert each DOCX file to Markdown\n",
    "converted_files = []\n",
    "for docx_file in all_docx:\n",
    "    try:\n",
    "        # Define output path (same filename but with .md extension in the output directory)\n",
    "        docx_filename = os.path.basename(docx_file)\n",
    "        output_path = os.path.join(output_dir, Path(docx_filename).with_suffix('.md'))\n",
    "        \n",
    "        # Perform the conversion\n",
    "        converted_file = converter.convert_file(docx_file, output_path)\n",
    "        converted_files.append(converted_file)\n",
    "        print(f\"Successfully converted: {docx_file}\")\n",
    "    except Exception as e:\n",
    "        print(f\"Failed to convert {docx_file}: {e}\")\n",
    "\n",
    "print(f\"Converted {len(converted_files)} files. Output files are in the {output_dir} directory.\")\n",
    "\n"
   ]
  }
 ],
 "metadata": {
  "kernelspec": {
   "display_name": "ai_scientist",
   "language": "python",
   "name": "python3"
  },
  "language_info": {
   "codemirror_mode": {
    "name": "ipython",
    "version": 3
   },
   "file_extension": ".py",
   "mimetype": "text/x-python",
   "name": "python",
   "nbconvert_exporter": "python",
   "pygments_lexer": "ipython3",
   "version": "3.11.9"
  }
 },
 "nbformat": 4,
 "nbformat_minor": 2
}
