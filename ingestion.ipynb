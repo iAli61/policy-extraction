{
 "cells": [
  {
   "cell_type": "code",
   "execution_count": null,
   "metadata": {},
   "outputs": [],
   "source": [
    "import glob\n",
    "import sys\n",
    "import os\n",
    "from pathlib import Path\n",
    "\n",
    "# Add the current directory to path if needed\n",
    "sys.path.append(os.path.abspath('.'))\n",
    "\n",
    "# Import the converter from your script\n",
    "from word_to_markdown import WordToMarkdownConverter\n",
    "\n",
    "volume_path = \"./testfiles\"\n",
    "\n",
    "# Get all PDFs\n",
    "all_docx = glob.glob(f\"{volume_path}/*.docx\")\n",
    "\n",
    "# Initialize the converter\n",
    "converter = WordToMarkdownConverter(\n",
    "    preserve_tables=True,\n",
    "    preserve_images=True,\n",
    "    preserve_lists=True\n",
    ")\n",
    "\n",
    "# Create an output directory for the converted markdown files\n",
    "output_dir = \"markdown_files\"\n",
    "os.makedirs(output_dir, exist_ok=True)\n",
    "\n",
    "# Convert each DOCX file to Markdown\n",
    "converted_files = []\n",
    "for docx_file in all_docx:\n",
    "    try:\n",
    "        # Define output path (same filename but with .md extension in the output directory)\n",
    "        docx_filename = os.path.basename(docx_file)\n",
    "        output_path = os.path.join(output_dir, Path(docx_filename).with_suffix('.md'))\n",
    "        \n",
    "        # Perform the conversion\n",
    "        converted_file = converter.convert_file(docx_file, output_path)\n",
    "        converted_files.append(converted_file)\n",
    "        print(f\"Successfully converted: {docx_file}\")\n",
    "    except Exception as e:\n",
    "        print(f\"Failed to convert {docx_file}: {e}\")\n",
    "\n",
    "print(f\"Converted {len(converted_files)} files. Output files are in the {output_dir} directory.\")\n",
    "\n"
   ]
  }
 ],
 "metadata": {
  "kernelspec": {
   "display_name": "ai_scientist",
   "language": "python",
   "name": "python3"
  },
  "language_info": {
   "name": "python",
   "version": "3.11.9"
  }
 },
 "nbformat": 4,
 "nbformat_minor": 2
}
